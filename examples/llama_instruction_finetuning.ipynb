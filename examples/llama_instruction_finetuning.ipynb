{
 "cells": [
  {
   "cell_type": "code",
   "execution_count": null,
   "metadata": {
    "collapsed": true
   },
   "outputs": [],
   "source": [
    "from turing import LLAMA, TextDataset\n",
    "\n",
    "llama = LLAMA()\n",
    "\n",
    "dataset = TextDataset()\n",
    "\n",
    "llama.finetune(dataset=dataset) # validate dataset (that columns we need are presented)\n",
    "\n",
    "llama.evaluate(eval_dataset=dataset) # add names support popular datasets\n",
    "\n",
    "llama.generate(texts=\"Hello, my name is\")\n",
    "llama.generate(texts=[\"Hello, my name is\"]) # we can name it inference, but than we will have names conflict with real inference\n",
    "llama.generate(dataset=dataset)\n",
    "\n",
    "llama.save(\"path to save\")"
   ]
  },
  {
   "cell_type": "code",
   "execution_count": null,
   "outputs": [],
   "source": [
    "llama.requirements() # we can add some requirements for model, gpu memory size, like cuda version, torch version, like deepspeed is doing"
   ],
   "metadata": {
    "collapsed": false
   }
  }
 ],
 "metadata": {
  "kernelspec": {
   "display_name": "Python 3",
   "language": "python",
   "name": "python3"
  },
  "language_info": {
   "codemirror_mode": {
    "name": "ipython",
    "version": 2
   },
   "file_extension": ".py",
   "mimetype": "text/x-python",
   "name": "python",
   "nbconvert_exporter": "python",
   "pygments_lexer": "ipython2",
   "version": "2.7.6"
  }
 },
 "nbformat": 4,
 "nbformat_minor": 0
}
