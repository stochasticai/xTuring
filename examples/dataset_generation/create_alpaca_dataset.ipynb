{
 "cells": [
  {
   "attachments": {},
   "cell_type": "markdown",
   "metadata": {},
   "source": [
    "# Generate dataset for ALPACA\n",
    "\n",
    "## Use token from openai to generate dataset for finetuning"
   ]
  },
  {
   "cell_type": "code",
   "execution_count": 7,
   "metadata": {},
   "outputs": [],
   "source": [
    "from xturing.datasets import InstructionDataset"
   ]
  },
  {
   "cell_type": "code",
   "execution_count": 10,
   "outputs": [
    {
     "name": "stdout",
     "output_type": "stream",
     "text": [
      "./self_instruct_davinci_cache_10_5 directory already exists. Please specify other directory if you don't want to use previous cache.\n",
      "Loaded 8 machine-generated instructions from file.\n"
     ]
    },
    {
     "name": "stderr",
     "output_type": "stream",
     "text": [
      "\n",
      "\n",
      "8it [00:00, 20092.47it/s]            \u001B[A\u001B[A\n",
      "\n",
      "\n",
      "8it [00:00, 23814.36it/s]\n"
     ]
    },
    {
     "name": "stdout",
     "output_type": "stream",
     "text": [
      "Loaded 8 existing requests\n"
     ]
    },
    {
     "name": "stderr",
     "output_type": "stream",
     "text": [
      "\n",
      "\n",
      "100%|██████████| 8/8 [00:00<00:00, 4476.91it/s]\n",
      "\n",
      "\n",
      "8it [00:00, 1677.81it/s]\n"
     ]
    },
    {
     "name": "stdout",
     "output_type": "stream",
     "text": [
      "Loaded 8 existing requests\n"
     ]
    },
    {
     "name": "stderr",
     "output_type": "stream",
     "text": [
      "\n",
      "\n",
      "100%|██████████| 8/8 [00:00<00:00, 1445.63it/s]\n"
     ]
    },
    {
     "name": "stdout",
     "output_type": "stream",
     "text": [
      "Loaded 8 raw generated tasks\n"
     ]
    },
    {
     "name": "stderr",
     "output_type": "stream",
     "text": [
      "\n",
      "\n",
      "100%|██████████| 8/8 [00:00<00:00, 30643.32it/s]"
     ]
    },
    {
     "name": "stdout",
     "output_type": "stream",
     "text": [
      "Saved 8 instances\n",
      "Unique instructions: 7\n",
      "Classification instructions: 1\n",
      "Non-classification instructions: 6\n",
      "Sampling 5 instructions\n",
      "Only using 6 instances for these sampled instructions.\n",
      "Included 175 seed tasks\n"
     ]
    },
    {
     "name": "stderr",
     "output_type": "stream",
     "text": [
      "\n"
     ]
    }
   ],
   "source": [
    "# you can specify different model using engine parameter\n",
    "# you can provide organization name with organization parameter\n",
    "dataset = InstructionDataset.generate_dataset(api_key=\"<your api key>\", path=\"./seed_tasks.jsonl\")"
   ],
   "metadata": {
    "collapsed": false
   }
  },
  {
   "cell_type": "code",
   "execution_count": null,
   "outputs": [],
   "source": [
    "from xturing.models.base import BaseModel\n",
    "\n",
    "model = BaseModel.create(\"gpt2_lora\")"
   ],
   "metadata": {
    "collapsed": false
   }
  },
  {
   "cell_type": "code",
   "execution_count": null,
   "outputs": [],
   "source": [
    "# Finetune the model on generated dataset\n",
    "model.finetun(dataset=dataset)"
   ],
   "metadata": {
    "collapsed": false
   }
  }
 ],
 "metadata": {
  "kernelspec": {
   "display_name": "Python 3",
   "language": "python",
   "name": "python3"
  },
  "language_info": {
   "codemirror_mode": {
    "name": "ipython",
    "version": 3
   },
   "file_extension": ".py",
   "mimetype": "text/x-python",
   "name": "python",
   "nbconvert_exporter": "python",
   "pygments_lexer": "ipython3",
   "version": "3.10.6"
  },
  "orig_nbformat": 4
 },
 "nbformat": 4,
 "nbformat_minor": 2
}
