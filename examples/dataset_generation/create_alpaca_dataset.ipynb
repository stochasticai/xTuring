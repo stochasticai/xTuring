{
 "cells": [
  {
   "attachments": {},
   "cell_type": "markdown",
   "metadata": {},
   "source": [
    "# Generate dataset for ALPACA\n",
    "\n",
    "## Use token from OpenAI to generate dataset for finetuning\n",
    "### You can get token from [here](https://beta.openai.com/docs/api-reference/authentication)"
   ]
  },
  {
   "cell_type": "code",
   "execution_count": 1,
   "metadata": {},
   "outputs": [
    {
     "name": "stdout",
     "output_type": "stream",
     "text": [
      "WARNING: CUDA is not available, using CPU instead, can be very slow\n"
     ]
    }
   ],
   "source": [
    "from xturing.datasets import InstructionDataset\n",
    "from xturing.model_apis import openai"
   ]
  },
  {
   "cell_type": "code",
   "execution_count": 3,
   "outputs": [
    {
     "name": "stdout",
     "output_type": "stream",
     "text": [
      "./self_instruct_davinci_cache_10_5 directory already exists. Please specify other directory if you don't want to use previous cache.\n",
      "Loaded 8 machine-generated instructions from file.\n"
     ]
    },
    {
     "name": "stderr",
     "output_type": "stream",
     "text": [
      "\n",
      "8it [00:00, 21103.42it/s]            \u001B[A\n",
      "\n",
      "8it [00:00, 83261.62it/s]\n"
     ]
    },
    {
     "name": "stdout",
     "output_type": "stream",
     "text": [
      "Loaded 8 existing requests\n"
     ]
    },
    {
     "name": "stderr",
     "output_type": "stream",
     "text": [
      "\n",
      "100%|██████████| 8/8 [00:00<00:00, 3189.89it/s]\n",
      "\n",
      "8it [00:00, 1556.76it/s]\n"
     ]
    },
    {
     "name": "stdout",
     "output_type": "stream",
     "text": [
      "Loaded 8 existing requests\n"
     ]
    },
    {
     "name": "stderr",
     "output_type": "stream",
     "text": [
      "\n",
      "100%|██████████| 8/8 [00:00<00:00, 1399.33it/s]\n"
     ]
    },
    {
     "name": "stdout",
     "output_type": "stream",
     "text": [
      "Loaded 8 raw generated tasks\n"
     ]
    },
    {
     "name": "stderr",
     "output_type": "stream",
     "text": [
      "\n",
      "100%|██████████| 8/8 [00:00<00:00, 14057.16it/s]"
     ]
    },
    {
     "name": "stdout",
     "output_type": "stream",
     "text": [
      "Saved 8 instances\n",
      "Unique instructions: 7\n",
      "Classification instructions: 1\n",
      "Non-classification instructions: 6\n",
      "Sampling 5 instructions\n",
      "Only using 6 instances for these sampled instructions.\n",
      "Included 175 seed tasks\n"
     ]
    },
    {
     "name": "stderr",
     "output_type": "stream",
     "text": [
      "\n"
     ]
    }
   ],
   "source": [
    "# you can specify different model using engine parameter, default is davinci, you also can add strings\n",
    "# you can provide organization name with organization parameter\n",
    "dataset = InstructionDataset.generate_dataset(api_key=\"<your api key>\", engine=openai.DAVINCI, path=\"./seed_tasks.jsonl\")"
   ],
   "metadata": {
    "collapsed": false
   }
  },
  {
   "cell_type": "code",
   "execution_count": null,
   "outputs": [],
   "source": [
    "from xturing.models import GPT2LORA\n",
    "\n",
    "model = GPT2LORA()"
   ],
   "metadata": {
    "collapsed": false
   }
  },
  {
   "cell_type": "code",
   "execution_count": null,
   "outputs": [],
   "source": [
    "# Finetune the model on generated dataset\n",
    "model.finetune(dataset=dataset)"
   ],
   "metadata": {
    "collapsed": false
   }
  }
 ],
 "metadata": {
  "kernelspec": {
   "display_name": "Python 3",
   "language": "python",
   "name": "python3"
  },
  "language_info": {
   "codemirror_mode": {
    "name": "ipython",
    "version": 3
   },
   "file_extension": ".py",
   "mimetype": "text/x-python",
   "name": "python",
   "nbconvert_exporter": "python",
   "pygments_lexer": "ipython3",
   "version": "3.10.6"
  },
  "orig_nbformat": 4
 },
 "nbformat": 4,
 "nbformat_minor": 2
}
