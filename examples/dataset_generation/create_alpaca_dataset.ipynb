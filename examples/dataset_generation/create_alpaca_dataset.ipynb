{
 "cells": [
  {
   "attachments": {},
   "cell_type": "markdown",
   "metadata": {},
   "source": [
    "# Generate dataset for ALPACA\n",
    "\n",
    "## Use token from OpenAI to generate dataset for finetuning\n",
    "### You can get token from [here](https://beta.openai.com/docs/api-reference/authentication)\n",
    "### You can also use AI Studio and Cohere to generate dataset"
   ]
  },
  {
   "cell_type": "code",
   "execution_count": null,
   "metadata": {
    "pycharm": {
     "is_executing": true
    }
   },
   "outputs": [],
   "source": [
    "from xturing.datasets import InstructionDataset\n",
    "from xturing.model_apis import Davinci"
   ]
  },
  {
   "cell_type": "code",
   "execution_count": 2,
   "outputs": [
    {
     "name": "stdout",
     "output_type": "stream",
     "text": [
      "./self_instruct_openai_davinci_cache_10_5 directory already exists. Please specify other directory if you don't want to use previous cache.\n",
      "Loaded 15 machine-generated instructions from file.\n"
     ]
    },
    {
     "name": "stderr",
     "output_type": "stream",
     "text": [
      "15it [00:00, 10916.98it/s]           \n",
      "10it [00:00, 22477.51it/s]\n"
     ]
    },
    {
     "name": "stdout",
     "output_type": "stream",
     "text": [
      "Loaded 10 existing requests\n"
     ]
    },
    {
     "name": "stderr",
     "output_type": "stream",
     "text": [
      "100%|██████████| 10/10 [00:00<00:00, 1700.37it/s]\n",
      "10it [00:00, 1552.07it/s]\n"
     ]
    },
    {
     "name": "stdout",
     "output_type": "stream",
     "text": [
      "Loaded 10 existing requests\n"
     ]
    },
    {
     "name": "stderr",
     "output_type": "stream",
     "text": [
      "100%|██████████| 10/10 [00:00<00:00, 806.89it/s]\n"
     ]
    },
    {
     "name": "stdout",
     "output_type": "stream",
     "text": [
      "Loaded 10 raw generated tasks\n"
     ]
    },
    {
     "name": "stderr",
     "output_type": "stream",
     "text": [
      "100%|██████████| 10/10 [00:00<00:00, 13277.32it/s]"
     ]
    },
    {
     "name": "stdout",
     "output_type": "stream",
     "text": [
      "Saved 15 instances\n",
      "Unique instructions: 7\n",
      "Classification instructions: 0\n",
      "Non-classification instructions: 7\n",
      "Sampling 5 instructions\n",
      "Only using 9 instances for these sampled instructions.\n",
      "Included 175 seed tasks\n"
     ]
    },
    {
     "name": "stderr",
     "output_type": "stream",
     "text": [
      "\n"
     ]
    }
   ],
   "source": [
    "# you can specify different model using engine parameter, default is davinci, you also can add strings\n",
    "# you can provide organization name with organization parameter\n",
    "engine = Davinci(\"your-api-key\")\n",
    "dataset = InstructionDataset.generate_dataset(engine=engine, path=\"./seed_tasks.jsonl\")"
   ],
   "metadata": {
    "collapsed": false
   }
  },
  {
   "cell_type": "code",
   "execution_count": null,
   "outputs": [],
   "source": [
    "from xturing.models import GPT2Lora\n",
    "\n",
    "model = GPT2Lora()"
   ],
   "metadata": {
    "collapsed": false
   }
  },
  {
   "cell_type": "code",
   "execution_count": null,
   "outputs": [],
   "source": [
    "# Finetune the model on generated dataset\n",
    "model.finetune(dataset=dataset)"
   ],
   "metadata": {
    "collapsed": false
   }
  }
 ],
 "metadata": {
  "kernelspec": {
   "display_name": "Python 3",
   "language": "python",
   "name": "python3"
  },
  "language_info": {
   "codemirror_mode": {
    "name": "ipython",
    "version": 3
   },
   "file_extension": ".py",
   "mimetype": "text/x-python",
   "name": "python",
   "nbconvert_exporter": "python",
   "pygments_lexer": "ipython3",
   "version": "3.10.6"
  },
  "orig_nbformat": 4
 },
 "nbformat": 4,
 "nbformat_minor": 2
}
