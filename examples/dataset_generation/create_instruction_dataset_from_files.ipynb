{
 "cells": [
  {
   "attachments": {},
   "cell_type": "markdown",
   "metadata": {},
   "source": [
    "# Generate dataset from a documents folder. 
    
Some finance news articles are stored in `sample_finance_data` folder. In this tutorial, we are going to generation `InstructionDataset` from this folder containing multiple files and then, perform Instruction fine-tuning on the generated dataset.\n",
    "\n",
    "## Use token from OpenAI to generate dataset for finetuning\n",
    "### You can get token from [here](https://beta.openai.com/docs/api-reference/authentication)\n",
    "### You can also use AI Studio and Cohere to generate dataset"
   ]
  },
  {
   "cell_type": "code",
   "execution_count": 1,
   "metadata": {
    "pycharm": {
     "is_executing": true
    }
   },
   "outputs": [],
   "source": [
    "from xturing.datasets import InstructionDataset\n",
    "from xturing.model_apis.openai import ChatGPT"
   ]
  },
  {
   "cell_type": "code",
   "execution_count": null,
   "metadata": {
    "collapsed": false
   },
   "outputs": [],
   "source": [
    "# you can specify different model using engine parameter, default is davinci, you also can add strings\n",
    "# you can provide organization name with organization parameter\n",
    "engine = ChatGPT(\"your-api-key\")\n",
    "dataset = InstructionDataset.generate_dataset_on_data(engine=engine, path=\"./sample_finance_data\")\n",
    "\n",
    "# Alternatively, you can use Cohere to generate dataset\n",
    "\n",
    "# from xturing.model_apis.cohere import Medium\n",
    "#\n",
    "# engine = Medium(\"your-api-key\")\n",
    "\n",
    "# Alternatively, you can use AI21 to generate dataset\n",
    "\n",
    "# from xturing.model_apis.ai21 import J2Grande\n",
    "#\n",
    "# engine = J2Grande(\"your-api-key\")"
   ]
  },
  {
   "cell_type": "code",
   "execution_count": null,
   "metadata": {
    "collapsed": false
   },
   "outputs": [],
   "source": [
    "from xturing.models import BaseModel\n",
    "model = BaseModel.create(\"gpt2_lora\")"
   ]
  },
  {
   "cell_type": "code",
   "execution_count": null,
   "metadata": {
    "collapsed": false
   },
   "outputs": [],
   "source": [
    "# Finetune the model on generated dataset\n",
    "model.finetune(dataset=dataset)"
   ]
  },
  {
   "cell_type": "code",
   "execution_count": null,
   "metadata": {},
   "outputs": [],
   "source": []
  }
 ],
 "metadata": {
  "kernelspec": {
   "display_name": "Python 3",
   "language": "python",
   "name": "python3"
  },
  "language_info": {
   "codemirror_mode": {
    "name": "ipython",
    "version": 3
   },
   "file_extension": ".py",
   "mimetype": "text/x-python",
   "name": "python",
   "nbconvert_exporter": "python",
   "pygments_lexer": "ipython3",
   "version": "3.9.16"
  },
  "orig_nbformat": 4
 },
 "nbformat": 4,
 "nbformat_minor": 2
}
