{
 "cells": [
  {
   "cell_type": "markdown",
   "source": [
    "# [xTuring](https://github.com/stochasticai/xturing) - LLaMA efficient fine-tuning tutorial\n",
    "\n",
    "This tutorial aims to show how easy it is to perform fine-tuning with xTuring. This notebook shows how to fine-tune LLaMA 7B model on GPU which has limited memory, it requires only 5GB VRAM"
   ],
   "metadata": {
    "collapsed": false
   }
  },
  {
   "cell_type": "markdown",
   "source": [
    "## 1. Install the `xTuring` library"
   ],
   "metadata": {
    "collapsed": false
   }
  },
  {
   "cell_type": "code",
   "execution_count": 1,
   "outputs": [
    {
     "name": "stdout",
     "output_type": "stream",
     "text": [
      "Requirement already satisfied: xturing in /Users/romanageev/Documents/GitHub/turing-test/venv/lib/python3.9/site-packages (0.0.5)\r\n",
      "Collecting xturing\r\n",
      "  Downloading xturing-0.0.8-py3-none-any.whl (86 kB)\r\n",
      "     |████████████████████████████████| 86 kB 6.8 MB/s             \r\n",
      "\u001B[?25hRequirement already satisfied: rouge-score>=0.1.2 in /Users/romanageev/Documents/GitHub/turing-test/venv/lib/python3.9/site-packages (from xturing) (0.1.2)\r\n",
      "Requirement already satisfied: evaluate in /Users/romanageev/Documents/GitHub/turing-test/venv/lib/python3.9/site-packages (from xturing) (0.4.0)\r\n",
      "Requirement already satisfied: bitsandbytes in /Users/romanageev/Documents/GitHub/turing-test/venv/lib/python3.9/site-packages (from xturing) (0.37.2)\r\n",
      "Requirement already satisfied: ai21 in /Users/romanageev/Documents/GitHub/turing-test/venv/lib/python3.9/site-packages (from xturing) (1.0.3)\r\n",
      "Requirement already satisfied: ipywidgets in /Users/romanageev/Documents/GitHub/turing-test/venv/lib/python3.9/site-packages (from xturing) (8.0.5)\r\n",
      "Requirement already satisfied: peft in /Users/romanageev/Documents/GitHub/turing-test/venv/lib/python3.9/site-packages (from xturing) (0.2.0)\r\n",
      "Requirement already satisfied: openai>=0.27.0 in /Users/romanageev/Documents/GitHub/turing-test/venv/lib/python3.9/site-packages (from xturing) (0.27.2)\r\n",
      "Requirement already satisfied: datasets in /Users/romanageev/Documents/GitHub/turing-test/venv/lib/python3.9/site-packages (from xturing) (2.10.1)\r\n",
      "Requirement already satisfied: transformers==4.27.3 in /Users/romanageev/Documents/GitHub/turing-test/venv/lib/python3.9/site-packages (from xturing) (4.27.3)\r\n",
      "Requirement already satisfied: click in /Users/romanageev/Documents/GitHub/turing-test/venv/lib/python3.9/site-packages (from xturing) (8.1.3)\r\n",
      "Requirement already satisfied: pytorch-lightning in /Users/romanageev/Documents/GitHub/turing-test/venv/lib/python3.9/site-packages (from xturing) (2.0.0)\r\n",
      "Requirement already satisfied: cohere in /Users/romanageev/Documents/GitHub/turing-test/venv/lib/python3.9/site-packages (from xturing) (4.1.3)\r\n",
      "Requirement already satisfied: wget in /Users/romanageev/Documents/GitHub/turing-test/venv/lib/python3.9/site-packages (from xturing) (3.2)\r\n",
      "Requirement already satisfied: pydantic>=1.10.0 in /Users/romanageev/Documents/GitHub/turing-test/venv/lib/python3.9/site-packages (from xturing) (1.10.7)\r\n",
      "Requirement already satisfied: gradio in /Users/romanageev/Documents/GitHub/turing-test/venv/lib/python3.9/site-packages (from xturing) (3.24.0)\r\n",
      "Requirement already satisfied: deepspeed in /Users/romanageev/Documents/GitHub/turing-test/venv/lib/python3.9/site-packages (from xturing) (0.8.3)\r\n",
      "Requirement already satisfied: sentencepiece in /Users/romanageev/Documents/GitHub/turing-test/venv/lib/python3.9/site-packages (from xturing) (0.1.97)\r\n",
      "Requirement already satisfied: torch>=1.9.0 in /Users/romanageev/Documents/GitHub/turing-test/venv/lib/python3.9/site-packages (from xturing) (2.0.0)\r\n",
      "Requirement already satisfied: pyyaml>=5.1 in /Users/romanageev/Documents/GitHub/turing-test/venv/lib/python3.9/site-packages (from transformers==4.27.3->xturing) (6.0)\r\n",
      "Requirement already satisfied: tqdm>=4.27 in /Users/romanageev/Documents/GitHub/turing-test/venv/lib/python3.9/site-packages (from transformers==4.27.3->xturing) (4.65.0)\r\n",
      "Requirement already satisfied: numpy>=1.17 in /Users/romanageev/Documents/GitHub/turing-test/venv/lib/python3.9/site-packages (from transformers==4.27.3->xturing) (1.24.2)\r\n",
      "Requirement already satisfied: huggingface-hub<1.0,>=0.11.0 in /Users/romanageev/Documents/GitHub/turing-test/venv/lib/python3.9/site-packages (from transformers==4.27.3->xturing) (0.13.3)\r\n",
      "Requirement already satisfied: packaging>=20.0 in /Users/romanageev/Documents/GitHub/turing-test/venv/lib/python3.9/site-packages (from transformers==4.27.3->xturing) (23.0)\r\n",
      "Requirement already satisfied: tokenizers!=0.11.3,<0.14,>=0.11.1 in /Users/romanageev/Documents/GitHub/turing-test/venv/lib/python3.9/site-packages (from transformers==4.27.3->xturing) (0.13.2)\r\n",
      "Requirement already satisfied: requests in /Users/romanageev/Documents/GitHub/turing-test/venv/lib/python3.9/site-packages (from transformers==4.27.3->xturing) (2.28.2)\r\n",
      "Requirement already satisfied: regex!=2019.12.17 in /Users/romanageev/Documents/GitHub/turing-test/venv/lib/python3.9/site-packages (from transformers==4.27.3->xturing) (2023.3.23)\r\n",
      "Requirement already satisfied: filelock in /Users/romanageev/Documents/GitHub/turing-test/venv/lib/python3.9/site-packages (from transformers==4.27.3->xturing) (3.10.6)\r\n",
      "Requirement already satisfied: aiohttp in /Users/romanageev/Documents/GitHub/turing-test/venv/lib/python3.9/site-packages (from openai>=0.27.0->xturing) (3.8.4)\r\n",
      "Requirement already satisfied: typing-extensions>=4.2.0 in /Users/romanageev/Documents/GitHub/turing-test/venv/lib/python3.9/site-packages (from pydantic>=1.10.0->xturing) (4.5.0)\r\n",
      "Requirement already satisfied: six>=1.14.0 in /Users/romanageev/Documents/GitHub/turing-test/venv/lib/python3.9/site-packages (from rouge-score>=0.1.2->xturing) (1.16.0)\r\n",
      "Requirement already satisfied: nltk in /Users/romanageev/Documents/GitHub/turing-test/venv/lib/python3.9/site-packages (from rouge-score>=0.1.2->xturing) (3.8.1)\r\n",
      "Requirement already satisfied: absl-py in /Users/romanageev/Documents/GitHub/turing-test/venv/lib/python3.9/site-packages (from rouge-score>=0.1.2->xturing) (1.4.0)\r\n",
      "Requirement already satisfied: sympy in /Users/romanageev/Documents/GitHub/turing-test/venv/lib/python3.9/site-packages (from torch>=1.9.0->xturing) (1.11.1)\r\n",
      "Requirement already satisfied: jinja2 in /Users/romanageev/Documents/GitHub/turing-test/venv/lib/python3.9/site-packages (from torch>=1.9.0->xturing) (3.1.2)\r\n",
      "Requirement already satisfied: networkx in /Users/romanageev/Documents/GitHub/turing-test/venv/lib/python3.9/site-packages (from torch>=1.9.0->xturing) (3.0)\r\n",
      "Requirement already satisfied: backoff<3.0,>=2.0 in /Users/romanageev/Documents/GitHub/turing-test/venv/lib/python3.9/site-packages (from cohere->xturing) (2.2.1)\r\n",
      "Requirement already satisfied: xxhash in /Users/romanageev/Documents/GitHub/turing-test/venv/lib/python3.9/site-packages (from datasets->xturing) (3.2.0)\r\n",
      "Requirement already satisfied: multiprocess in /Users/romanageev/Documents/GitHub/turing-test/venv/lib/python3.9/site-packages (from datasets->xturing) (0.70.14)\r\n",
      "Requirement already satisfied: pyarrow>=6.0.0 in /Users/romanageev/Documents/GitHub/turing-test/venv/lib/python3.9/site-packages (from datasets->xturing) (11.0.0)\r\n",
      "Requirement already satisfied: responses<0.19 in /Users/romanageev/Documents/GitHub/turing-test/venv/lib/python3.9/site-packages (from datasets->xturing) (0.18.0)\r\n",
      "Requirement already satisfied: pandas in /Users/romanageev/Documents/GitHub/turing-test/venv/lib/python3.9/site-packages (from datasets->xturing) (1.5.3)\r\n",
      "Requirement already satisfied: fsspec[http]>=2021.11.1 in /Users/romanageev/Documents/GitHub/turing-test/venv/lib/python3.9/site-packages (from datasets->xturing) (2023.3.0)\r\n",
      "Requirement already satisfied: dill<0.3.7,>=0.3.0 in /Users/romanageev/Documents/GitHub/turing-test/venv/lib/python3.9/site-packages (from datasets->xturing) (0.3.6)\r\n",
      "Requirement already satisfied: psutil in /Users/romanageev/Documents/GitHub/turing-test/venv/lib/python3.9/site-packages (from deepspeed->xturing) (5.9.4)\r\n",
      "Requirement already satisfied: ninja in /Users/romanageev/Documents/GitHub/turing-test/venv/lib/python3.9/site-packages (from deepspeed->xturing) (1.11.1)\r\n",
      "Requirement already satisfied: py-cpuinfo in /Users/romanageev/Documents/GitHub/turing-test/venv/lib/python3.9/site-packages (from deepspeed->xturing) (9.0.0)\r\n",
      "Requirement already satisfied: hjson in /Users/romanageev/Documents/GitHub/turing-test/venv/lib/python3.9/site-packages (from deepspeed->xturing) (3.1.0)\r\n",
      "Requirement already satisfied: semantic-version in /Users/romanageev/Documents/GitHub/turing-test/venv/lib/python3.9/site-packages (from gradio->xturing) (2.10.0)\r\n",
      "Requirement already satisfied: uvicorn in /Users/romanageev/Documents/GitHub/turing-test/venv/lib/python3.9/site-packages (from gradio->xturing) (0.21.1)\r\n",
      "Requirement already satisfied: mdit-py-plugins<=0.3.3 in /Users/romanageev/Documents/GitHub/turing-test/venv/lib/python3.9/site-packages (from gradio->xturing) (0.3.3)\r\n",
      "Requirement already satisfied: pydub in /Users/romanageev/Documents/GitHub/turing-test/venv/lib/python3.9/site-packages (from gradio->xturing) (0.25.1)\r\n",
      "Requirement already satisfied: ffmpy in /Users/romanageev/Documents/GitHub/turing-test/venv/lib/python3.9/site-packages (from gradio->xturing) (0.3.0)\r\n",
      "Requirement already satisfied: httpx in /Users/romanageev/Documents/GitHub/turing-test/venv/lib/python3.9/site-packages (from gradio->xturing) (0.23.3)\r\n",
      "Requirement already satisfied: matplotlib in /Users/romanageev/Documents/GitHub/turing-test/venv/lib/python3.9/site-packages (from gradio->xturing) (3.7.1)\r\n",
      "Requirement already satisfied: markupsafe in /Users/romanageev/Documents/GitHub/turing-test/venv/lib/python3.9/site-packages (from gradio->xturing) (2.1.2)\r\n",
      "Requirement already satisfied: pillow in /Users/romanageev/Documents/GitHub/turing-test/venv/lib/python3.9/site-packages (from gradio->xturing) (9.3.0)\r\n",
      "Requirement already satisfied: altair>=4.2.0 in /Users/romanageev/Documents/GitHub/turing-test/venv/lib/python3.9/site-packages (from gradio->xturing) (4.2.2)\r\n",
      "Requirement already satisfied: gradio-client>=0.0.5 in /Users/romanageev/Documents/GitHub/turing-test/venv/lib/python3.9/site-packages (from gradio->xturing) (0.0.5)\r\n",
      "Requirement already satisfied: websockets>=10.0 in /Users/romanageev/Documents/GitHub/turing-test/venv/lib/python3.9/site-packages (from gradio->xturing) (10.4)\r\n",
      "Requirement already satisfied: markdown-it-py[linkify]>=2.0.0 in /Users/romanageev/Documents/GitHub/turing-test/venv/lib/python3.9/site-packages (from gradio->xturing) (2.2.0)\r\n",
      "Requirement already satisfied: fastapi in /Users/romanageev/Documents/GitHub/turing-test/venv/lib/python3.9/site-packages (from gradio->xturing) (0.95.0)\r\n",
      "Requirement already satisfied: aiofiles in /Users/romanageev/Documents/GitHub/turing-test/venv/lib/python3.9/site-packages (from gradio->xturing) (23.1.0)\r\n",
      "Requirement already satisfied: orjson in /Users/romanageev/Documents/GitHub/turing-test/venv/lib/python3.9/site-packages (from gradio->xturing) (3.8.9)\r\n",
      "Requirement already satisfied: python-multipart in /Users/romanageev/Documents/GitHub/turing-test/venv/lib/python3.9/site-packages (from gradio->xturing) (0.0.6)\r\n",
      "Requirement already satisfied: widgetsnbextension~=4.0 in /Users/romanageev/Documents/GitHub/turing-test/venv/lib/python3.9/site-packages (from ipywidgets->xturing) (4.0.6)\r\n",
      "Requirement already satisfied: ipython>=6.1.0 in /Users/romanageev/Documents/GitHub/turing-test/venv/lib/python3.9/site-packages (from ipywidgets->xturing) (8.11.0)\r\n",
      "Requirement already satisfied: jupyterlab-widgets~=3.0 in /Users/romanageev/Documents/GitHub/turing-test/venv/lib/python3.9/site-packages (from ipywidgets->xturing) (3.0.6)\r\n",
      "Requirement already satisfied: traitlets>=4.3.1 in /Users/romanageev/Documents/GitHub/turing-test/venv/lib/python3.9/site-packages (from ipywidgets->xturing) (5.9.0)\r\n",
      "Requirement already satisfied: accelerate in /Users/romanageev/Documents/GitHub/turing-test/venv/lib/python3.9/site-packages (from peft->xturing) (0.18.0)\r\n",
      "Requirement already satisfied: lightning-utilities>=0.7.0 in /Users/romanageev/Documents/GitHub/turing-test/venv/lib/python3.9/site-packages (from pytorch-lightning->xturing) (0.8.0)\r\n",
      "Requirement already satisfied: torchmetrics>=0.7.0 in /Users/romanageev/Documents/GitHub/turing-test/venv/lib/python3.9/site-packages (from pytorch-lightning->xturing) (0.11.4)\r\n",
      "Requirement already satisfied: aiosignal>=1.1.2 in /Users/romanageev/Documents/GitHub/turing-test/venv/lib/python3.9/site-packages (from aiohttp->openai>=0.27.0->xturing) (1.3.1)\r\n",
      "Requirement already satisfied: multidict<7.0,>=4.5 in /Users/romanageev/Documents/GitHub/turing-test/venv/lib/python3.9/site-packages (from aiohttp->openai>=0.27.0->xturing) (6.0.4)\r\n",
      "Requirement already satisfied: charset-normalizer<4.0,>=2.0 in /Users/romanageev/Documents/GitHub/turing-test/venv/lib/python3.9/site-packages (from aiohttp->openai>=0.27.0->xturing) (3.1.0)\r\n",
      "Requirement already satisfied: frozenlist>=1.1.1 in /Users/romanageev/Documents/GitHub/turing-test/venv/lib/python3.9/site-packages (from aiohttp->openai>=0.27.0->xturing) (1.3.3)\r\n",
      "Requirement already satisfied: async-timeout<5.0,>=4.0.0a3 in /Users/romanageev/Documents/GitHub/turing-test/venv/lib/python3.9/site-packages (from aiohttp->openai>=0.27.0->xturing) (4.0.2)\r\n",
      "Requirement already satisfied: attrs>=17.3.0 in /Users/romanageev/Documents/GitHub/turing-test/venv/lib/python3.9/site-packages (from aiohttp->openai>=0.27.0->xturing) (22.2.0)\r\n",
      "Requirement already satisfied: yarl<2.0,>=1.0 in /Users/romanageev/Documents/GitHub/turing-test/venv/lib/python3.9/site-packages (from aiohttp->openai>=0.27.0->xturing) (1.8.2)\r\n",
      "Requirement already satisfied: toolz in /Users/romanageev/Documents/GitHub/turing-test/venv/lib/python3.9/site-packages (from altair>=4.2.0->gradio->xturing) (0.12.0)\r\n",
      "Requirement already satisfied: jsonschema>=3.0 in /Users/romanageev/Documents/GitHub/turing-test/venv/lib/python3.9/site-packages (from altair>=4.2.0->gradio->xturing) (4.17.3)\r\n",
      "Requirement already satisfied: entrypoints in /Users/romanageev/Documents/GitHub/turing-test/venv/lib/python3.9/site-packages (from altair>=4.2.0->gradio->xturing) (0.4)\r\n",
      "Requirement already satisfied: matplotlib-inline in /Users/romanageev/Documents/GitHub/turing-test/venv/lib/python3.9/site-packages (from ipython>=6.1.0->ipywidgets->xturing) (0.1.6)\r\n",
      "Requirement already satisfied: pickleshare in /Users/romanageev/Documents/GitHub/turing-test/venv/lib/python3.9/site-packages (from ipython>=6.1.0->ipywidgets->xturing) (0.7.5)\r\n",
      "Requirement already satisfied: backcall in /Users/romanageev/Documents/GitHub/turing-test/venv/lib/python3.9/site-packages (from ipython>=6.1.0->ipywidgets->xturing) (0.2.0)\r\n",
      "Requirement already satisfied: stack-data in /Users/romanageev/Documents/GitHub/turing-test/venv/lib/python3.9/site-packages (from ipython>=6.1.0->ipywidgets->xturing) (0.6.2)\r\n",
      "Requirement already satisfied: decorator in /Users/romanageev/Documents/GitHub/turing-test/venv/lib/python3.9/site-packages (from ipython>=6.1.0->ipywidgets->xturing) (5.1.1)\r\n",
      "Requirement already satisfied: jedi>=0.16 in /Users/romanageev/Documents/GitHub/turing-test/venv/lib/python3.9/site-packages (from ipython>=6.1.0->ipywidgets->xturing) (0.18.2)\r\n",
      "Requirement already satisfied: prompt-toolkit!=3.0.37,<3.1.0,>=3.0.30 in /Users/romanageev/Documents/GitHub/turing-test/venv/lib/python3.9/site-packages (from ipython>=6.1.0->ipywidgets->xturing) (3.0.38)\r\n",
      "Requirement already satisfied: pygments>=2.4.0 in /Users/romanageev/Documents/GitHub/turing-test/venv/lib/python3.9/site-packages (from ipython>=6.1.0->ipywidgets->xturing) (2.14.0)\r\n",
      "Requirement already satisfied: pexpect>4.3 in /Users/romanageev/Documents/GitHub/turing-test/venv/lib/python3.9/site-packages (from ipython>=6.1.0->ipywidgets->xturing) (4.8.0)\r\n",
      "Requirement already satisfied: appnope in /Users/romanageev/Documents/GitHub/turing-test/venv/lib/python3.9/site-packages (from ipython>=6.1.0->ipywidgets->xturing) (0.1.3)\r\n",
      "Requirement already satisfied: mdurl~=0.1 in /Users/romanageev/Documents/GitHub/turing-test/venv/lib/python3.9/site-packages (from markdown-it-py[linkify]>=2.0.0->gradio->xturing) (0.1.2)\r\n",
      "Requirement already satisfied: linkify-it-py<3,>=1 in /Users/romanageev/Documents/GitHub/turing-test/venv/lib/python3.9/site-packages (from markdown-it-py[linkify]>=2.0.0->gradio->xturing) (2.0.0)\r\n",
      "Requirement already satisfied: python-dateutil>=2.8.1 in /Users/romanageev/Documents/GitHub/turing-test/venv/lib/python3.9/site-packages (from pandas->datasets->xturing) (2.8.2)\r\n",
      "Requirement already satisfied: pytz>=2020.1 in /Users/romanageev/Documents/GitHub/turing-test/venv/lib/python3.9/site-packages (from pandas->datasets->xturing) (2023.2)\r\n",
      "Requirement already satisfied: urllib3<1.27,>=1.21.1 in /Users/romanageev/Documents/GitHub/turing-test/venv/lib/python3.9/site-packages (from requests->transformers==4.27.3->xturing) (1.26.15)\r\n",
      "Requirement already satisfied: idna<4,>=2.5 in /Users/romanageev/Documents/GitHub/turing-test/venv/lib/python3.9/site-packages (from requests->transformers==4.27.3->xturing) (3.4)\r\n",
      "Requirement already satisfied: certifi>=2017.4.17 in /Users/romanageev/Documents/GitHub/turing-test/venv/lib/python3.9/site-packages (from requests->transformers==4.27.3->xturing) (2022.12.7)\r\n",
      "Requirement already satisfied: starlette<0.27.0,>=0.26.1 in /Users/romanageev/Documents/GitHub/turing-test/venv/lib/python3.9/site-packages (from fastapi->gradio->xturing) (0.26.1)\r\n",
      "Requirement already satisfied: httpcore<0.17.0,>=0.15.0 in /Users/romanageev/Documents/GitHub/turing-test/venv/lib/python3.9/site-packages (from httpx->gradio->xturing) (0.16.3)\r\n",
      "Requirement already satisfied: rfc3986[idna2008]<2,>=1.3 in /Users/romanageev/Documents/GitHub/turing-test/venv/lib/python3.9/site-packages (from httpx->gradio->xturing) (1.5.0)\r\n",
      "Requirement already satisfied: sniffio in /Users/romanageev/Documents/GitHub/turing-test/venv/lib/python3.9/site-packages (from httpx->gradio->xturing) (1.3.0)\r\n",
      "Requirement already satisfied: fonttools>=4.22.0 in /Users/romanageev/Documents/GitHub/turing-test/venv/lib/python3.9/site-packages (from matplotlib->gradio->xturing) (4.39.3)\r\n",
      "Requirement already satisfied: pyparsing>=2.3.1 in /Users/romanageev/Documents/GitHub/turing-test/venv/lib/python3.9/site-packages (from matplotlib->gradio->xturing) (3.0.9)\r\n",
      "Requirement already satisfied: kiwisolver>=1.0.1 in /Users/romanageev/Documents/GitHub/turing-test/venv/lib/python3.9/site-packages (from matplotlib->gradio->xturing) (1.4.4)\r\n",
      "Requirement already satisfied: contourpy>=1.0.1 in /Users/romanageev/Documents/GitHub/turing-test/venv/lib/python3.9/site-packages (from matplotlib->gradio->xturing) (1.0.7)\r\n",
      "Requirement already satisfied: importlib-resources>=3.2.0 in /Users/romanageev/Documents/GitHub/turing-test/venv/lib/python3.9/site-packages (from matplotlib->gradio->xturing) (5.12.0)\r\n",
      "Requirement already satisfied: cycler>=0.10 in /Users/romanageev/Documents/GitHub/turing-test/venv/lib/python3.9/site-packages (from matplotlib->gradio->xturing) (0.11.0)\r\n",
      "Requirement already satisfied: joblib in /Users/romanageev/Documents/GitHub/turing-test/venv/lib/python3.9/site-packages (from nltk->rouge-score>=0.1.2->xturing) (1.2.0)\r\n",
      "Requirement already satisfied: mpmath>=0.19 in /Users/romanageev/Documents/GitHub/turing-test/venv/lib/python3.9/site-packages (from sympy->torch>=1.9.0->xturing) (1.3.0)\r\n",
      "Requirement already satisfied: h11>=0.8 in /Users/romanageev/Documents/GitHub/turing-test/venv/lib/python3.9/site-packages (from uvicorn->gradio->xturing) (0.14.0)\r\n",
      "Requirement already satisfied: anyio<5.0,>=3.0 in /Users/romanageev/Documents/GitHub/turing-test/venv/lib/python3.9/site-packages (from httpcore<0.17.0,>=0.15.0->httpx->gradio->xturing) (3.6.2)\r\n",
      "Requirement already satisfied: zipp>=3.1.0 in /Users/romanageev/Documents/GitHub/turing-test/venv/lib/python3.9/site-packages (from importlib-resources>=3.2.0->matplotlib->gradio->xturing) (3.15.0)\r\n",
      "Requirement already satisfied: parso<0.9.0,>=0.8.0 in /Users/romanageev/Documents/GitHub/turing-test/venv/lib/python3.9/site-packages (from jedi>=0.16->ipython>=6.1.0->ipywidgets->xturing) (0.8.3)\r\n",
      "Requirement already satisfied: pyrsistent!=0.17.0,!=0.17.1,!=0.17.2,>=0.14.0 in /Users/romanageev/Documents/GitHub/turing-test/venv/lib/python3.9/site-packages (from jsonschema>=3.0->altair>=4.2.0->gradio->xturing) (0.19.3)\r\n",
      "Requirement already satisfied: uc-micro-py in /Users/romanageev/Documents/GitHub/turing-test/venv/lib/python3.9/site-packages (from linkify-it-py<3,>=1->markdown-it-py[linkify]>=2.0.0->gradio->xturing) (1.0.1)\r\n",
      "Requirement already satisfied: ptyprocess>=0.5 in /Users/romanageev/Documents/GitHub/turing-test/venv/lib/python3.9/site-packages (from pexpect>4.3->ipython>=6.1.0->ipywidgets->xturing) (0.7.0)\r\n",
      "Requirement already satisfied: wcwidth in /Users/romanageev/Documents/GitHub/turing-test/venv/lib/python3.9/site-packages (from prompt-toolkit!=3.0.37,<3.1.0,>=3.0.30->ipython>=6.1.0->ipywidgets->xturing) (0.2.6)\r\n",
      "Requirement already satisfied: asttokens>=2.1.0 in /Users/romanageev/Documents/GitHub/turing-test/venv/lib/python3.9/site-packages (from stack-data->ipython>=6.1.0->ipywidgets->xturing) (2.2.1)\r\n",
      "Requirement already satisfied: executing>=1.2.0 in /Users/romanageev/Documents/GitHub/turing-test/venv/lib/python3.9/site-packages (from stack-data->ipython>=6.1.0->ipywidgets->xturing) (1.2.0)\r\n",
      "Requirement already satisfied: pure-eval in /Users/romanageev/Documents/GitHub/turing-test/venv/lib/python3.9/site-packages (from stack-data->ipython>=6.1.0->ipywidgets->xturing) (0.2.2)\r\n",
      "Installing collected packages: xturing\r\n",
      "  Attempting uninstall: xturing\r\n",
      "    Found existing installation: xturing 0.0.5\r\n",
      "    Uninstalling xturing-0.0.5:\r\n",
      "      Successfully uninstalled xturing-0.0.5\r\n",
      "Successfully installed xturing-0.0.8\r\n",
      "\u001B[33mWARNING: You are using pip version 21.3.1; however, version 23.0.1 is available.\r\n",
      "You should consider upgrading via the '/Users/romanageev/Documents/GitHub/turing-test/venv/bin/python -m pip install --upgrade pip' command.\u001B[0m\r\n"
     ]
    }
   ],
   "source": [
    "!pip install xturing --upgrade"
   ],
   "metadata": {
    "collapsed": false
   }
  },
  {
   "cell_type": "markdown",
   "source": [
    "## Load and run docker image"
   ],
   "metadata": {
    "collapsed": false
   }
  },
  {
   "cell_type": "markdown",
   "source": [
    "1. Install and configure the AWS CLI if you haven't already. Follow the steps in the [official AWS documentation](https://docs.aws.amazon.com/cli/latest/userguide/getting-started-install.html) to install the AWS CLI and configure it with your AWS credentials.\n",
    "2. Install Docker on your machine if you haven't already. You can follow the [official Docker documentation](https://docs.docker.com/engine/install/) for installation instructions.\n",
    "3. Log in to the Amazon ECR.\n",
    "    ```bash\n",
    "    aws configure\n",
    "    ```\n",
    "4. Pull the Docker image from the public ECR. Replace <image_name> with the name of the image you want to pull and <tag> with the desired tag:\n",
    "    ```bash\n",
    "        docker pull <aws_account_id>.dkr.ecr.<aws_region>.amazonaws.com/<image_name>:<tag>\n",
    "    ```"
   ],
   "metadata": {
    "collapsed": false
   }
  },
  {
   "cell_type": "code",
   "execution_count": null,
   "outputs": [],
   "source": [
    "from xturing.utils.docker import run_docker_container\n",
    "\n",
    "image = \"<aws_account_id>.dkr.ecr.<aws_region>.amazonaws.com/<image_name>:<tag>\"\n",
    "port_mapping = \"5000:5000\"\n",
    "env_vars = {\n",
    "    \"ENV_VAR1\": \"value1\",\n",
    "}\n",
    "gpus = \"all\"\n",
    "\n",
    "run_docker_container(image, port_mapping, env_vars, gpus)"
   ],
   "metadata": {
    "collapsed": false
   }
  }
 ],
 "metadata": {
  "kernelspec": {
   "display_name": "Python 3",
   "language": "python",
   "name": "python3"
  },
  "language_info": {
   "codemirror_mode": {
    "name": "ipython",
    "version": 2
   },
   "file_extension": ".py",
   "mimetype": "text/x-python",
   "name": "python",
   "nbconvert_exporter": "python",
   "pygments_lexer": "ipython2",
   "version": "2.7.6"
  }
 },
 "nbformat": 4,
 "nbformat_minor": 0
}
