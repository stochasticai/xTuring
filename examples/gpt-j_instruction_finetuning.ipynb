{
 "cells": [
  {
   "attachments": {},
   "cell_type": "markdown",
   "metadata": {},
   "source": [
    "## Quickstart"
   ]
  },
  {
   "cell_type": "code",
   "execution_count": null,
   "metadata": {},
   "outputs": [],
   "source": [
    "from turing import GPTJ, TextDataset\n",
    "\n",
    "model = GPTJ()\n",
    "\n",
    "dataset = TextDataset()\n",
    "\n",
    "baseline_results = model.evaluate(eval_dataset=dataset)\n",
    "\n",
    "model.finetune(dataset=dataset) # validate dataset (that columns we need are presented)\n",
    "\n",
    "finetuned_results = model.evaluate(eval_dataset=dataset) # add names support popular datasets\n",
    "\n",
    "model.generate(texts=[\"Hello, my name is\"]) # we can name it inference, but than we will have names conflict with real inference\n",
    "model.generate(dataset=dataset)\n",
    "\n",
    "model.save(\"path to save\") # Automatically saves the last/best checkpoint"
   ]
  },
  {
   "cell_type": "code",
   "execution_count": null,
   "metadata": {},
   "outputs": [],
   "source": [
    "# we can add some requirements for model, gpu memory size, like cuda version, torch version, like deepspeed is doing\n",
    "model.requirements() \n",
    "\n",
    "# Fetch the underlying model\n",
    "underlying_model = model.engine"
   ]
  }
 ],
 "metadata": {
  "kernelspec": {
   "display_name": "Python 3 (ipykernel)",
   "language": "python",
   "name": "python3"
  },
  "language_info": {
   "codemirror_mode": {
    "name": "ipython",
    "version": 3
   },
   "file_extension": ".py",
   "mimetype": "text/x-python",
   "name": "python",
   "nbconvert_exporter": "python",
   "pygments_lexer": "ipython3",
   "version": "3.9.13"
  }
 },
 "nbformat": 4,
 "nbformat_minor": 1
}
