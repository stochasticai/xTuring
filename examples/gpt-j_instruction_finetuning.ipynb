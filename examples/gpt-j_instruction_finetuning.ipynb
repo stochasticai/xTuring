{
 "cells": [
  {
   "cell_type": "code",
   "execution_count": null,
   "metadata": {},
   "outputs": [],
   "source": [
    "import torch"
   ]
  },
  {
   "cell_type": "markdown",
   "metadata": {},
   "source": [
    "## For unexperieced users"
   ]
  },
  {
   "cell_type": "code",
   "execution_count": null,
   "metadata": {},
   "outputs": [],
   "source": [
    "from turing import GPT_J, TextDataset\n",
    "\n",
    "gpt_j = GPT_J()\n",
    "\n",
    "dataset = TextDataset()\n",
    "\n",
    "gpt_j.finetune(dataset=dataset) # validate dataset (that columns we need are presented)\n",
    "\n",
    "gpt_j.evaluate(eval_dataset=dataset) # add names support popular datasets\n",
    "\n",
    "gpt_j.generate(texts=\"Hello, my name is\")\n",
    "gpt_j.generate(texts=[\"Hello, my name is\"]) # we can name it inference, but than we will have names conflict with real inference\n",
    "gpt_j.generate(dataset=dataset)\n",
    "\n",
    "gpt_j.save(\"path to save\")"
   ]
  },
  {
   "cell_type": "code",
   "execution_count": null,
   "metadata": {},
   "outputs": [],
   "source": [
    "gpt_j.requirements() # we can add some requirements for model, gpu memory size, like cuda version, torch version, like deepspeed is doing"
   ]
  },
  {
   "cell_type": "markdown",
   "metadata": {},
   "source": [
    "# More information about structure"
   ]
  },
  {
   "cell_type": "code",
   "execution_count": null,
   "metadata": {},
   "outputs": [],
   "source": [
    "import turing\n",
    "turing.set_cache_dir(\"some path\") # by default somewhere in ~ (home directory)"
   ]
  },
  {
   "cell_type": "code",
   "execution_count": null,
   "metadata": {},
   "outputs": [],
   "source": [
    "from turing import preprocessors\n",
    "from preprocessors import tokenizer\n",
    "from tokenizer import BaseTokenizer, GPT_JTokenizer\n",
    "\n",
    "tokenizer = BaseTokenizer.create(type=\"gpt_j_tokenizer\")\n",
    "\n",
    "# other creation options\n",
    "\n",
    "tokenizer = BaseTokenizer.create_from_config(json_config)\n",
    "\n",
    "tokenizer = GPT_JTokenizer()"
   ]
  },
  {
   "cell_type": "markdown",
   "metadata": {},
   "source": [
    "# Tokenizer parameters\n",
    "- vocab_path - path to vocab file, by default we are loading vocab in cache_dir (same with model for this tokenizer)\n"
   ]
  },
  {
   "cell_type": "code",
   "execution_count": null,
   "metadata": {},
   "outputs": [],
   "source": [
    "# It will be class for advanced users because\n",
    "\n",
    "from engine import BaseEngine, GPT_J\n",
    "\n",
    "gpt_j = BaseEngine.create(type=\"gpt_j\")\n",
    "\n",
    "# other creation options\n",
    "\n",
    "gpt_j = BaseEngine.create_from_config(json_config)\n",
    "\n",
    "gpt_j = GPT_J()"
   ]
  },
  {
   "cell_type": "markdown",
   "metadata": {},
   "source": [
    "# Engine parameters\n",
    "\n",
    "- dtype - default - torch.float16, but can be set to torch.float32, and torch.int8 also (for this type it can be different implementation but from import it should work)\n",
    "- weights_path - path to model, by default we are loading model in cache_dir\n",
    "- device - default - chosen from system cuda availability, in case only cpu is available - we will throw warning and use cpu"
   ]
  },
  {
   "cell_type": "code",
   "execution_count": null,
   "metadata": {
    "pycharm": {
     "is_executing": true
    }
   },
   "outputs": [],
   "source": [
    "from turing import datasets\n",
    "\n",
    "from datasets import BaseDataset, TextDataset\n",
    "\n",
    "dataset = BaseDataset.create(type=\"text_dataset\")\n",
    "\n",
    "# other creation options\n",
    "\n",
    "dataset = BaseDataset.create_from_config(json_config)\n",
    "\n",
    "dataset = TextDataset()\n"
   ]
  },
  {
   "cell_type": "code",
   "execution_count": null,
   "metadata": {},
   "outputs": [],
   "source": [
    "from turing import models # these are actually full pipelines\n",
    "\n",
    "model = models.BaseModel.create(type=\"gpt_j\")\n"
   ]
  }
 ],
 "metadata": {
  "kernelspec": {
   "display_name": "Python 3 (ipykernel)",
   "language": "python",
   "name": "python3"
  },
  "language_info": {
   "codemirror_mode": {
    "name": "ipython",
    "version": 3
   },
   "file_extension": ".py",
   "mimetype": "text/x-python",
   "name": "python",
   "nbconvert_exporter": "python",
   "pygments_lexer": "ipython3",
   "version": "3.9.13"
  }
 },
 "nbformat": 4,
 "nbformat_minor": 1
}
