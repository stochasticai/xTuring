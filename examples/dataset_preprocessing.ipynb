{
 "cells": [
  {
   "cell_type": "markdown",
   "source": [
    "## For unexperieced users"
   ],
   "metadata": {
    "collapsed": false
   }
  },
  {
   "cell_type": "code",
   "execution_count": null,
   "outputs": [],
   "source": [
    "from turing import GPT_J, TextDataset, InstructionDataset\n",
    "\n",
    "gpt_j = GPT_J()\n",
    "\n",
    "dataset = TextDataset(path=\"\") # path to dataset\n",
    "\n",
    "gpt_j.finetune(dataset=dataset) # already has validation inside, or we can get some part of train and use as validation\n",
    "\n",
    "dataset = InstructionDataset(part=\"\")"
   ],
   "metadata": {
    "collapsed": false,
    "pycharm": {
     "is_executing": true
    }
   }
  },
  {
   "cell_type": "markdown",
   "source": [
    "# TextDataset\n",
    "- has one column: text for self-supervised finetuning\n",
    "- has two columns: text and target for supervised finetuning\n",
    "\n",
    "# InstructionDataset\n",
    "- has three columns: instruction, text, target"
   ],
   "metadata": {
    "collapsed": false
   }
  },
  {
   "cell_type": "markdown",
   "source": [
    "# More information about structure"
   ],
   "metadata": {
    "collapsed": false
   }
  },
  {
   "cell_type": "code",
   "execution_count": null,
   "outputs": [],
   "source": [
    "from turing import datasets\n",
    "\n",
    "from datasets import BaseDataset, TextDataset, InstructionDataset\n",
    "\n",
    "dataset = BaseDataset.create(type=\"causal_dataset\")\n",
    "\n",
    "# other creation options\n",
    "\n",
    "dataset = BaseDataset.create_from_config(json_config)\n",
    "\n",
    "dataset = TextDataset()\n"
   ],
   "metadata": {
    "collapsed": false
   }
  }
 ],
 "metadata": {
  "kernelspec": {
   "display_name": "Python 3",
   "language": "python",
   "name": "python3"
  },
  "language_info": {
   "codemirror_mode": {
    "name": "ipython",
    "version": 2
   },
   "file_extension": ".py",
   "mimetype": "text/x-python",
   "name": "python",
   "nbconvert_exporter": "python",
   "pygments_lexer": "ipython2",
   "version": "2.7.6"
  }
 },
 "nbformat": 4,
 "nbformat_minor": 0
}
