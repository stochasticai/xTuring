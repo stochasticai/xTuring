{
 "cells": [
  {
   "attachments": {},
   "cell_type": "markdown",
   "metadata": {},
   "source": [
    "## Quickstart"
   ]
  },
  {
   "cell_type": "code",
   "execution_count": null,
   "metadata": {
    "pycharm": {
     "is_executing": true
    }
   },
   "outputs": [],
   "source": [
    "from turing import GPT_J, TextDataset, InstructionDataset\n",
    "\n",
    "gpt_j = GPT_J()\n",
    "\n",
    "dataset = TextDataset(path=\"\") # path to dataset\n",
    "\n",
    "gpt_j.finetune(dataset=dataset) # already has validation inside, or we can get some part of train and use as validation\n",
    "\n",
    "dataset = InstructionDataset(part=\"\")"
   ]
  },
  {
   "cell_type": "markdown",
   "metadata": {},
   "source": [
    "# TextDataset\n",
    "- has one column: text for self-supervised finetuning\n",
    "- has two columns: text and target for supervised finetuning\n",
    "\n",
    "# InstructionDataset\n",
    "- has three columns: instruction, text, target"
   ]
  },
  {
   "cell_type": "markdown",
   "metadata": {},
   "source": [
    "# More information about structure"
   ]
  },
  {
   "cell_type": "code",
   "execution_count": null,
   "metadata": {},
   "outputs": [],
   "source": [
    "from turing import datasets\n",
    "\n",
    "from datasets import BaseDataset, TextDataset, InstructionDataset\n",
    "\n",
    "dataset = BaseDataset.create(type=\"causal_dataset\")\n",
    "\n",
    "# other creation options\n",
    "\n",
    "dataset = BaseDataset.create_from_config(json_config)\n",
    "\n",
    "dataset = TextDataset()\n"
   ]
  }
 ],
 "metadata": {
  "kernelspec": {
   "display_name": "Python 3 (ipykernel)",
   "language": "python",
   "name": "python3"
  },
  "language_info": {
   "codemirror_mode": {
    "name": "ipython",
    "version": 3
   },
   "file_extension": ".py",
   "mimetype": "text/x-python",
   "name": "python",
   "nbconvert_exporter": "python",
   "pygments_lexer": "ipython3",
   "version": "3.9.13"
  }
 },
 "nbformat": 4,
 "nbformat_minor": 1
}
