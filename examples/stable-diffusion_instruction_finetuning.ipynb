{
 "cells": [
  {
   "cell_type": "code",
   "execution_count": null,
   "id": "4afef3f9",
   "metadata": {},
   "outputs": [],
   "source": [
    "from turing import StableDiffusion\n",
    "\n",
    "stable_diffusion = StableDiffusion()\n",
    "\n",
    "stable_diffusion.finetune()"
   ]
  },
  {
   "cell_type": "code",
   "execution_count": null,
   "id": "ee49b734",
   "metadata": {},
   "outputs": [],
   "source": [
    "from turing import StableDiffusion, Text2ImageDataset\n",
    "\n",
    "stable_diffusion = StableDiffusion()\n",
    "\n",
    "dataset = Text2ImageDataset(\"ronaldo_images\")\n",
    "\n",
    "stable_diffusion.finetune(dataset=dataset) # validate dataset (that columns we need are presented)\n",
    "\n",
    "stable_diffusion.generate(texts=\"Hello, my name is\")\n",
    "stable_diffusion.generate(texts=[\"Hello, my name is\"]) # we can name it inference, but than we will have names conflict with real inference\n",
    "stable_diffusion.generate(dataset=dataset)\n",
    "\n",
    "stable_diffusion.save(\"path to save\")"
   ]
  },
  {
   "cell_type": "code",
   "execution_count": null,
   "id": "c86c73c6",
   "metadata": {},
   "outputs": [],
   "source": [
    "stable_diffusion.requirements() # we can add some requirements for model, gpu memory size, like cuda version, torch version, like deepspeed is doing"
   ]
  },
  {
   "cell_type": "code",
   "execution_count": null,
   "id": "48653c28",
   "metadata": {},
   "outputs": [],
   "source": [
    "# Datasets structure\n",
    "\n",
    "# /prompts.csv\n",
    "# /images\n",
    "# /images/1.jpg\n",
    "# /images/2.jpg"
   ]
  }
 ],
 "metadata": {
  "kernelspec": {
   "display_name": "Python 3 (ipykernel)",
   "language": "python",
   "name": "python3"
  },
  "language_info": {
   "codemirror_mode": {
    "name": "ipython",
    "version": 3
   },
   "file_extension": ".py",
   "mimetype": "text/x-python",
   "name": "python",
   "nbconvert_exporter": "python",
   "pygments_lexer": "ipython3",
   "version": "3.9.13"
  }
 },
 "nbformat": 4,
 "nbformat_minor": 5
}
