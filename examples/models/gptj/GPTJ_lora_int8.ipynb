{
  "cells": [
    {
      "attachments": {},
      "cell_type": "markdown",
      "metadata": {
        "id": "PY9zeKVN277J"
      },
      "source": [
        "# [xTuring](https://github.com/stochasticai/xturing) - GPT-J efficient fine-tuning tutorial\n",
        "\n",
        "This tutorial aims to show how easy it is to perform fine-tuning with xTuring. This notebook shows how to fine-tune GPT-J 6B model on GPU which has limited memory, it requires only 9GB VRAM"
      ]
    },
    {
      "attachments": {},
      "cell_type": "markdown",
      "metadata": {
        "id": "KpQMdSLY3Cz2"
      },
      "source": [
        "## 1. Install the `xTuring` library"
      ]
    },
    {
      "cell_type": "code",
      "execution_count": null,
      "metadata": {
        "id": "bNFVFKld2Ju4"
      },
      "outputs": [],
      "source": [
        "!pip install xturing --upgrade"
      ]
    },
    {
      "cell_type": "markdown",
      "metadata": {
        "id": "wONewxy63FnQ"
      },
      "source": [
        "## 2. Download and unzip the dataset"
      ]
    },
    {
      "cell_type": "code",
      "execution_count": null,
      "metadata": {
        "id": "KRO0TVPP2iFy"
      },
      "outputs": [],
      "source": [
        "!wget https://d33tr4pxdm6e2j.cloudfront.net/public_content/tutorials/datasets/alpaca_data.zip\n",
        "!unzip alpaca_data.zip"
      ]
    },
    {
      "cell_type": "code",
      "execution_count": null,
      "metadata": {
        "id": "RPXW1hQt3Jqp"
      },
      "outputs": [],
      "source": [
        "from xturing.datasets.instruction_dataset import InstructionDataset\n",
        "from xturing.models import BaseModel\n",
        "\n",
        "instruction_dataset = InstructionDataset(\"/content/alpaca_data\")\n",
        "# Initializes the model\n",
        "model = BaseModel.create(\"gptj_lora_int8\")"
      ]
    },
    {
      "cell_type": "markdown",
      "metadata": {
        "id": "aq-CQVD_3L-Y"
      },
      "source": [
        "## 3. Load the dataset and initialize the model"
      ]
    },
    {
      "cell_type": "code",
      "execution_count": null,
      "metadata": {
        "id": "pwvVo7Sx2vVj"
      },
      "outputs": [],
      "source": [
        "from xturing.datasets.instruction_dataset import InstructionDataset\n",
        "from xturing.models import BaseModel\n",
        "\n",
        "instruction_dataset = InstructionDataset(\"/content/alpaca_data\")\n",
        "# Initializes the model\n",
        "model = BaseModel.create(\"llama_lora_int8\")"
      ]
    },
    {
      "cell_type": "markdown",
      "metadata": {
        "id": "xGhffX483P8r"
      },
      "source": [
        "## 4. Start the finetuning"
      ]
    },
    {
      "cell_type": "code",
      "execution_count": null,
      "metadata": {
        "id": "BHa8P_jM7jCx"
      },
      "outputs": [],
      "source": [
        "# Finetuned the model\n",
        "model.finetune(dataset=instruction_dataset)"
      ]
    },
    {
      "attachments": {},
      "cell_type": "markdown",
      "metadata": {},
      "source": [
        "## 5. Generate an output text with the fine-tuned model"
      ]
    },
    {
      "cell_type": "code",
      "execution_count": null,
      "metadata": {
        "id": "lYfFHtW33j4B"
      },
      "outputs": [],
      "source": [
        "# Once the model has been finetuned, you can start doing inferences\n",
        "output = model.generate(texts=[\"Why LLM models are becoming so important?\"])\n",
        "print(\"Generated output by the model: {}\".format(output))"
      ]
    },
    {
      "attachments": {},
      "cell_type": "markdown",
      "metadata": {},
      "source": [
        "## Do you have any questions?\n",
        "\n",
        "You can open an issue in our [GitHub repo](https://github.com/stochasticai/xturing) "
      ]
    }
  ],
  "metadata": {
    "accelerator": "GPU",
    "colab": {
      "provenance": []
    },
    "gpuClass": "standard",
    "kernelspec": {
      "display_name": "Python 3",
      "name": "python3"
    },
    "language_info": {
      "name": "python"
    }
  },
  "nbformat": 4,
  "nbformat_minor": 0
}
