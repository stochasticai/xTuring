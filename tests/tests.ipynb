{
 "cells": [
  {
   "cell_type": "code",
   "execution_count": null,
   "metadata": {},
   "outputs": [],
   "source": [
    "from datasets import load_dataset\n",
    "\n",
    "dataset = load_dataset(\"glue\", \"mrpc\")\n",
    "dataset['train'] = dataset['train'].remove_columns([\"sentence2\", \"label\", \"idx\"])\n",
    "dataset['train'] = dataset['train'].rename_column(\"sentence1\", \"text\")\n",
    "\n",
    "dataset.save_to_disk(\"./test_dataset\")"
   ]
  },
  {
   "cell_type": "code",
   "execution_count": null,
   "metadata": {},
   "outputs": [],
   "source": [
    "from turing.datasets.text_dataset import TextDataset\n",
    "\n",
    "text_dataset = TextDataset(\"./test_dataset\")"
   ]
  },
  {
   "cell_type": "code",
   "execution_count": null,
   "metadata": {},
   "outputs": [],
   "source": [
    "from turing.models.gpt2 import GPT2\n",
    "from turing.datasets.text_dataset import TextDataset\n",
    "\n",
    "text_dataset = TextDataset(\"./test_dataset\")\n",
    "model = GPT2()"
   ]
  },
  {
   "cell_type": "code",
   "execution_count": null,
   "metadata": {},
   "outputs": [],
   "source": [
    "model.finetune(dataset=text_dataset)"
   ]
  },
  {
   "cell_type": "code",
   "execution_count": null,
   "metadata": {},
   "outputs": [],
   "source": [
    "from datasets import load_dataset\n",
    "\n",
    "dataset = load_dataset(\"glue\", \"mrpc\")\n",
    "dataset['train'] = dataset['train'].remove_columns([\"label\", \"idx\"])\n",
    "dataset['train'] = dataset['train'].rename_column(\"sentence1\", \"text\")\n",
    "dataset['train'] = dataset['train'].rename_column(\"sentence2\", \"target\")\n",
    "dataset['train'] = dataset['train'].add_column(\"instruction\", dataset['train'][\"target\"])\n",
    "\n",
    "dataset.save_to_disk(\"./test_instruction_dataset\")"
   ]
  },
  {
   "cell_type": "code",
   "execution_count": null,
   "metadata": {},
   "outputs": [],
   "source": [
    "from turing.models.gpt2 import GPT2\n",
    "from turing.datasets.instruction_dataset import InstructionDataset\n",
    "\n",
    "inst_dataset = InstructionDataset(\"./test_instruction_dataset\")\n",
    "model = GPT2()"
   ]
  },
  {
   "cell_type": "code",
   "execution_count": null,
   "metadata": {},
   "outputs": [],
   "source": [
    "model.finetune(dataset=inst_dataset)"
   ]
  }
 ],
 "metadata": {
  "language_info": {
   "name": "python"
  },
  "orig_nbformat": 4
 },
 "nbformat": 4,
 "nbformat_minor": 2
}
